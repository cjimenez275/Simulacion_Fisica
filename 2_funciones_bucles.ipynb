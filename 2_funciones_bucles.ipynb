{
  "nbformat": 4,
  "nbformat_minor": 0,
  "metadata": {
    "colab": {
      "provenance": [],
      "collapsed_sections": [
        "Mf4XrEMCKRh4",
        "dJeMj_UgT6dF",
        "792QmTy5YdYY",
        "miH2q967eBzi",
        "10OsBcy-fUZr",
        "HLHkKHdCjej6"
      ],
      "authorship_tag": "ABX9TyN/7k0+rym2AW9+Kx/YphNX",
      "include_colab_link": true
    },
    "kernelspec": {
      "name": "python3",
      "display_name": "Python 3"
    },
    "language_info": {
      "name": "python"
    }
  },
  "cells": [
    {
      "cell_type": "markdown",
      "metadata": {
        "id": "view-in-github",
        "colab_type": "text"
      },
      "source": [
        "<a href=\"https://colab.research.google.com/github/cjimenez275/Simulacion_Fisica/blob/main/2_funciones_bucles.ipynb\" target=\"_parent\"><img src=\"https://colab.research.google.com/assets/colab-badge.svg\" alt=\"Open In Colab\"/></a>"
      ]
    },
    {
      "cell_type": "markdown",
      "source": [
        "# Clase 2\n",
        "* Numpy\n",
        "* Funciones\n",
        "* Condicionales\n",
        "* Bucles\n"
      ],
      "metadata": {
        "id": "wK92Dw6XT2RO"
      }
    },
    {
      "cell_type": "markdown",
      "source": [
        "## Numpy\n",
        "Es una librería de contenido matemático"
      ],
      "metadata": {
        "id": "Mf4XrEMCKRh4"
      }
    },
    {
      "cell_type": "code",
      "source": [
        "import numpy as np"
      ],
      "metadata": {
        "id": "jjSFsfMHKQ6E"
      },
      "execution_count": 3,
      "outputs": []
    },
    {
      "cell_type": "code",
      "source": [
        "z = np.pi\n",
        "print(z)"
      ],
      "metadata": {
        "colab": {
          "base_uri": "https://localhost:8080/",
          "height": 0
        },
        "id": "O4rdi9upKb5_",
        "outputId": "7c0b954c-1332-4ac3-e89f-6cc738d04580"
      },
      "execution_count": 4,
      "outputs": [
        {
          "output_type": "stream",
          "name": "stdout",
          "text": [
            "3.141592653589793\n"
          ]
        }
      ]
    },
    {
      "cell_type": "code",
      "source": [
        "print(np.sin(np.pi/6))"
      ],
      "metadata": {
        "colab": {
          "base_uri": "https://localhost:8080/",
          "height": 0
        },
        "id": "bnR02YwUKimz",
        "outputId": "88ce2d0e-8400-4261-fbeb-cad2293b68fd"
      },
      "execution_count": 5,
      "outputs": [
        {
          "output_type": "stream",
          "name": "stdout",
          "text": [
            "0.49999999999999994\n"
          ]
        }
      ]
    },
    {
      "cell_type": "markdown",
      "source": [
        "## Funciones"
      ],
      "metadata": {
        "id": "dJeMj_UgT6dF"
      }
    },
    {
      "cell_type": "code",
      "execution_count": null,
      "metadata": {
        "id": "zM8dSPaBS2hq"
      },
      "outputs": [],
      "source": [
        "def saludo():\n",
        "  print(\"Hola\")"
      ]
    },
    {
      "cell_type": "code",
      "source": [
        "saludo()"
      ],
      "metadata": {
        "colab": {
          "base_uri": "https://localhost:8080/"
        },
        "id": "xPBcjsyqUxoR",
        "outputId": "37748037-77a3-4bc4-8ec3-8172cc38bb5e"
      },
      "execution_count": null,
      "outputs": [
        {
          "output_type": "stream",
          "name": "stdout",
          "text": [
            "Hola\n"
          ]
        }
      ]
    },
    {
      "cell_type": "code",
      "source": [
        "def saludo(name):\n",
        "  print(\"Hola\", name)"
      ],
      "metadata": {
        "id": "FkslsxXfU27F"
      },
      "execution_count": null,
      "outputs": []
    },
    {
      "cell_type": "code",
      "source": [
        "saludo(\"carlos\")"
      ],
      "metadata": {
        "colab": {
          "base_uri": "https://localhost:8080/"
        },
        "id": "Ve1M8RCRVF7l",
        "outputId": "40dc3af8-b437-4008-95d2-6305563b73f8"
      },
      "execution_count": null,
      "outputs": [
        {
          "output_type": "stream",
          "name": "stdout",
          "text": [
            "Hola carlos\n"
          ]
        }
      ]
    },
    {
      "cell_type": "code",
      "source": [
        "def Hello(name, age):\n",
        "  print(name, age)"
      ],
      "metadata": {
        "id": "yIFVndjCVJb1"
      },
      "execution_count": null,
      "outputs": []
    },
    {
      "cell_type": "code",
      "source": [
        "Hello(\"Carlos\", 21)"
      ],
      "metadata": {
        "colab": {
          "base_uri": "https://localhost:8080/"
        },
        "id": "I2bvmpWUVqAE",
        "outputId": "c9225eb6-2272-4cc7-e361-763f0479c658"
      },
      "execution_count": null,
      "outputs": [
        {
          "output_type": "stream",
          "name": "stdout",
          "text": [
            "Carlos 21\n"
          ]
        }
      ]
    },
    {
      "cell_type": "code",
      "source": [
        "def suma(x, y):\n",
        "  print(x + y)"
      ],
      "metadata": {
        "id": "Aq47c7sQJ1kU"
      },
      "execution_count": 1,
      "outputs": []
    },
    {
      "cell_type": "code",
      "source": [
        "suma(3, 7)"
      ],
      "metadata": {
        "colab": {
          "base_uri": "https://localhost:8080/",
          "height": 0
        },
        "id": "Cy_buWZEKADx",
        "outputId": "dcce4259-2d62-4b95-d05b-e3429fd11852"
      },
      "execution_count": 2,
      "outputs": [
        {
          "output_type": "stream",
          "name": "stdout",
          "text": [
            "10\n"
          ]
        }
      ]
    },
    {
      "cell_type": "code",
      "source": [
        "import numpy as np\n",
        "def vol(r, h):\n",
        "  return np.pi*r**2*h"
      ],
      "metadata": {
        "id": "Uvj4FpY6DLui"
      },
      "execution_count": null,
      "outputs": []
    },
    {
      "cell_type": "code",
      "source": [
        "print(vol(2, 3))"
      ],
      "metadata": {
        "colab": {
          "base_uri": "https://localhost:8080/"
        },
        "id": "hiJ6CZiHEM1x",
        "outputId": "84b41278-6e5e-4cf3-cc14-3cd8e231661c"
      },
      "execution_count": null,
      "outputs": [
        {
          "output_type": "stream",
          "name": "stdout",
          "text": [
            "37.69911184307752\n"
          ]
        }
      ]
    },
    {
      "cell_type": "code",
      "source": [
        "# Calcula el precio con descuento de una prenda de valor x y descuento d\n",
        "def precio(prenda, x, d):\n",
        "  y = x - (d/100)*x\n",
        "  print(\"El precio de la prenda\", prenda ,\"es:\" , y)"
      ],
      "metadata": {
        "id": "EH2c0CymVtlE"
      },
      "execution_count": null,
      "outputs": []
    },
    {
      "cell_type": "code",
      "source": [
        "precio(\"pantalon\", 60000, 20)"
      ],
      "metadata": {
        "colab": {
          "base_uri": "https://localhost:8080/"
        },
        "id": "_yrri9tRWWgt",
        "outputId": "3895ea45-dfee-4da5-e26a-773dfdf05dee"
      },
      "execution_count": null,
      "outputs": [
        {
          "output_type": "stream",
          "name": "stdout",
          "text": [
            "El precio de la prenda pantalon es: 48000.0\n"
          ]
        }
      ]
    },
    {
      "cell_type": "markdown",
      "source": [
        "## Condicionales"
      ],
      "metadata": {
        "id": "792QmTy5YdYY"
      }
    },
    {
      "cell_type": "code",
      "source": [
        "h = 5\n",
        "if h>8:\n",
        "  print(\"Mayor que 8\")\n",
        "else:\n",
        "  print(\"Menor que 8\")"
      ],
      "metadata": {
        "colab": {
          "base_uri": "https://localhost:8080/"
        },
        "id": "9vDneV4lWZ38",
        "outputId": "d46efc57-94d1-4f73-c25c-a2c28b33c275"
      },
      "execution_count": null,
      "outputs": [
        {
          "output_type": "stream",
          "name": "stdout",
          "text": [
            "Menor que 8\n"
          ]
        }
      ]
    },
    {
      "cell_type": "code",
      "source": [
        "h = 8\n",
        "if h>8:\n",
        "  print(\"Mayor que 8\")\n",
        "elif h == 8:\n",
        "  print(\"Es igual a 8\")\n",
        "else:\n",
        "  print(\"Menor que 8\")"
      ],
      "metadata": {
        "colab": {
          "base_uri": "https://localhost:8080/"
        },
        "id": "j-8-4OqAY9h3",
        "outputId": "4d305168-fb1b-496a-a885-a3a9d77751e4"
      },
      "execution_count": null,
      "outputs": [
        {
          "output_type": "stream",
          "name": "stdout",
          "text": [
            "Es igual a 8\n"
          ]
        }
      ]
    },
    {
      "cell_type": "markdown",
      "source": [
        "### Lógica"
      ],
      "metadata": {
        "id": "_r4LX7yHZxpp"
      }
    },
    {
      "cell_type": "code",
      "source": [
        "# < menor\n",
        "# > mayor\n",
        "# <= menor o igual\n",
        "# >= mayor o igual\n",
        "# ==\n",
        "# !=\n",
        "# and  y\n",
        "# or   o\n"
      ],
      "metadata": {
        "id": "ReKgI8wtZ0p2"
      },
      "execution_count": null,
      "outputs": []
    },
    {
      "cell_type": "code",
      "source": [
        "Name = \"Carlos\"\n",
        "if Name[0] == \"A\":\n",
        "  print(\"Su inicial es: \", \"A\")\n",
        "elif Name[0] == \"C\":\n",
        "  print(\"Su inicial es: \", \"C\")\n",
        "elif Name[0] == \"H\":\n",
        "  print(\"Su inicial es: \", \"H\")\n",
        "else:\n",
        "  print(\"Tu nombre es raro\")"
      ],
      "metadata": {
        "colab": {
          "base_uri": "https://localhost:8080/"
        },
        "id": "d-Ndgin0aXWj",
        "outputId": "abebc2e6-618e-4367-8551-e6ef0968324a"
      },
      "execution_count": null,
      "outputs": [
        {
          "output_type": "stream",
          "name": "stdout",
          "text": [
            "Su inicial es:  C\n"
          ]
        }
      ]
    },
    {
      "cell_type": "code",
      "source": [
        "print(\"Dime tu edad\")\n",
        "e = int(input())"
      ],
      "metadata": {
        "colab": {
          "base_uri": "https://localhost:8080/"
        },
        "id": "uCVgVFXTb6RU",
        "outputId": "0176fd7b-04f2-4fc3-93b0-f20d62489148"
      },
      "execution_count": null,
      "outputs": [
        {
          "name": "stdout",
          "output_type": "stream",
          "text": [
            "Dime tu edad\n",
            "44\n"
          ]
        }
      ]
    },
    {
      "cell_type": "code",
      "source": [
        "\n",
        "if e<18:\n",
        "  print(\"No puedes ingresar, eres menor de edad\")\n",
        "elif e>=18 and e<30:\n",
        "  print(\"Ve para la zona de regueaton\")\n",
        "elif e>=30 and e<40:\n",
        "  print(\"Ve para la zona de Rock\")\n",
        "elif e>=40 and e<60:\n",
        "  print(\"Ve para la zona de Tangos\")\n",
        "else:\n",
        "  print(\"Ve a descansar\")"
      ],
      "metadata": {
        "colab": {
          "base_uri": "https://localhost:8080/"
        },
        "id": "gHLq4fukalB1",
        "outputId": "1ebbbd4d-0fe7-4c0f-fe89-8d95be156c32"
      },
      "execution_count": null,
      "outputs": [
        {
          "output_type": "stream",
          "name": "stdout",
          "text": [
            "Ve para la zona de Tangos\n"
          ]
        }
      ]
    },
    {
      "cell_type": "markdown",
      "source": [
        "## Bucle while"
      ],
      "metadata": {
        "id": "miH2q967eBzi"
      }
    },
    {
      "cell_type": "code",
      "source": [
        "i = 2\n",
        "while i < 5:\n",
        "  print(i**2)\n",
        "  i = i + 1\n",
        "  print(\"Hello\")"
      ],
      "metadata": {
        "colab": {
          "base_uri": "https://localhost:8080/"
        },
        "id": "y5nBs2YdcyA0",
        "outputId": "6046b49d-8f43-483a-849a-4ae97cb43f92"
      },
      "execution_count": null,
      "outputs": [
        {
          "output_type": "stream",
          "name": "stdout",
          "text": [
            "4\n",
            "Hello\n",
            "9\n",
            "Hello\n",
            "16\n",
            "Hello\n"
          ]
        }
      ]
    },
    {
      "cell_type": "markdown",
      "source": [
        "## Bucle for"
      ],
      "metadata": {
        "id": "10OsBcy-fUZr"
      }
    },
    {
      "cell_type": "code",
      "source": [
        "for i in range(3, 10):\n",
        "  x = 2*i + 1\n",
        "  print(\"Esto es x: \", x)"
      ],
      "metadata": {
        "colab": {
          "base_uri": "https://localhost:8080/"
        },
        "collapsed": true,
        "id": "QUxvn_m6eiyP",
        "outputId": "afd12695-eeb1-42de-b985-b84371ebec10"
      },
      "execution_count": null,
      "outputs": [
        {
          "output_type": "stream",
          "name": "stdout",
          "text": [
            "Esto es x:  7\n",
            "Esto es x:  9\n",
            "Esto es x:  11\n",
            "Esto es x:  13\n",
            "Esto es x:  15\n",
            "Esto es x:  17\n",
            "Esto es x:  19\n"
          ]
        }
      ]
    },
    {
      "cell_type": "code",
      "source": [
        "for i in range(5, 19, 3):\n",
        "  print(i)"
      ],
      "metadata": {
        "colab": {
          "base_uri": "https://localhost:8080/"
        },
        "id": "IuL_0GUVfkwx",
        "outputId": "d4ea4d8c-9010-4d5b-e58f-87230b8ff8f5"
      },
      "execution_count": null,
      "outputs": [
        {
          "output_type": "stream",
          "name": "stdout",
          "text": [
            "5\n",
            "8\n",
            "11\n",
            "14\n",
            "17\n"
          ]
        }
      ]
    },
    {
      "cell_type": "code",
      "source": [
        "L = [\"Tomates\", \"Cebolla\", \"Papas\"]\n",
        "for n in L:\n",
        "  print(n)"
      ],
      "metadata": {
        "colab": {
          "base_uri": "https://localhost:8080/"
        },
        "id": "JeSe9QFkgKTv",
        "outputId": "eecd7516-5b8a-4321-d41f-2de7c5f77493"
      },
      "execution_count": null,
      "outputs": [
        {
          "output_type": "stream",
          "name": "stdout",
          "text": [
            "Tomates\n",
            "Cebolla\n",
            "Papas\n"
          ]
        }
      ]
    },
    {
      "cell_type": "code",
      "source": [
        "L = \"abcdefghijklmnopqrstuvwxyz\"\n",
        "N = \"carlos\"\n",
        "name = []\n",
        "for i in L:\n",
        "  if i == N[0]:\n",
        "    name.append(i)\n",
        "for i in L:\n",
        "  if i == N[1]:\n",
        "    name.append(i)\n",
        "for i in L:\n",
        "  if i == N[2]:\n",
        "    name.append(i)\n",
        "name"
      ],
      "metadata": {
        "colab": {
          "base_uri": "https://localhost:8080/"
        },
        "id": "8WIAWwYAgXw9",
        "outputId": "68fd828d-6979-47e2-d3a6-dad67dce02c2"
      },
      "execution_count": null,
      "outputs": [
        {
          "output_type": "execute_result",
          "data": {
            "text/plain": [
              "['c', 'a', 'r']"
            ]
          },
          "metadata": {},
          "execution_count": 53
        }
      ]
    },
    {
      "cell_type": "markdown",
      "source": [
        "### Ejemplo: sumar elementos"
      ],
      "metadata": {
        "id": "HLHkKHdCjej6"
      }
    },
    {
      "cell_type": "code",
      "source": [
        "x = 0\n",
        "for i in range(0,101):\n",
        "  x = i + x\n",
        "print(x)"
      ],
      "metadata": {
        "colab": {
          "base_uri": "https://localhost:8080/",
          "height": 0
        },
        "id": "AGntkqZpgq9i",
        "outputId": "70396dd7-b202-4d1f-979e-06f8aca3f025"
      },
      "execution_count": 6,
      "outputs": [
        {
          "output_type": "stream",
          "name": "stdout",
          "text": [
            "5050\n"
          ]
        }
      ]
    },
    {
      "cell_type": "code",
      "source": [],
      "metadata": {
        "id": "1SnKCjJYLjV9"
      },
      "execution_count": null,
      "outputs": []
    }
  ]
}