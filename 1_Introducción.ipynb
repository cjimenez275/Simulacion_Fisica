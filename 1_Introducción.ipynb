{
  "nbformat": 4,
  "nbformat_minor": 0,
  "metadata": {
    "colab": {
      "provenance": [],
      "collapsed_sections": [
        "lRE5zPFEWWWh",
        "ZNYN3fW2W5PD",
        "J1S8FgyPYIzn",
        "gNjHpY3TZcZh",
        "_sAaRrVFa7Zt",
        "egVQJpVTbCfE",
        "yCq8GmFCd1wm",
        "7sOYlU-tefi1"
      ]
    },
    "kernelspec": {
      "name": "python3",
      "display_name": "Python 3"
    },
    "language_info": {
      "name": "python"
    }
  },
  "cells": [
    {
      "cell_type": "markdown",
      "source": [
        "# Mi primer código"
      ],
      "metadata": {
        "id": "vKQB36AdVwzO"
      }
    },
    {
      "cell_type": "markdown",
      "source": [
        "## Comando print"
      ],
      "metadata": {
        "id": "lRE5zPFEWWWh"
      }
    },
    {
      "cell_type": "code",
      "source": [
        "print(\"Hello world\")"
      ],
      "metadata": {
        "colab": {
          "base_uri": "https://localhost:8080/"
        },
        "id": "vti5ACh3WnYh",
        "outputId": "4b76b0da-307d-4d0e-bee9-2052953b8594"
      },
      "execution_count": null,
      "outputs": [
        {
          "output_type": "stream",
          "name": "stdout",
          "text": [
            "Hello world\n"
          ]
        }
      ]
    },
    {
      "cell_type": "markdown",
      "source": [
        "## variables"
      ],
      "metadata": {
        "id": "ZNYN3fW2W5PD"
      }
    },
    {
      "cell_type": "code",
      "source": [
        "x = 36\n",
        "print(x)"
      ],
      "metadata": {
        "colab": {
          "base_uri": "https://localhost:8080/"
        },
        "id": "kC2UB68JWs3x",
        "outputId": "63240ccb-acd6-4a87-c9e7-f1226f8a3414"
      },
      "execution_count": null,
      "outputs": [
        {
          "output_type": "stream",
          "name": "stdout",
          "text": [
            "36\n"
          ]
        }
      ]
    },
    {
      "cell_type": "code",
      "source": [
        "y = 3.14159\n",
        "print(y)"
      ],
      "metadata": {
        "colab": {
          "base_uri": "https://localhost:8080/"
        },
        "id": "-pfiR3dJXHFr",
        "outputId": "81d21667-46c8-447d-d420-3f63d8ccd75a"
      },
      "execution_count": null,
      "outputs": [
        {
          "output_type": "stream",
          "name": "stdout",
          "text": [
            "3.14159\n"
          ]
        }
      ]
    },
    {
      "cell_type": "code",
      "source": [
        "x = \"Carlos Arturo\"\n",
        "print(x[0])"
      ],
      "metadata": {
        "colab": {
          "base_uri": "https://localhost:8080/"
        },
        "id": "nd57lCWFXTjK",
        "outputId": "ab123aeb-0fa2-48e1-e39e-2e52eae00b62"
      },
      "execution_count": null,
      "outputs": [
        {
          "output_type": "stream",
          "name": "stdout",
          "text": [
            "C\n"
          ]
        }
      ]
    },
    {
      "cell_type": "markdown",
      "source": [
        "## Comando input"
      ],
      "metadata": {
        "id": "J1S8FgyPYIzn"
      }
    },
    {
      "cell_type": "code",
      "source": [
        "print(\"Ingresa tu nombre\")\n",
        "x = input()\n",
        "print(\"Ingresa tu edad\")\n",
        "y = input()"
      ],
      "metadata": {
        "colab": {
          "base_uri": "https://localhost:8080/"
        },
        "id": "EYgaWa71XfUA",
        "outputId": "3c4b5555-6b7b-49dd-c4f0-807dace66f46"
      },
      "execution_count": null,
      "outputs": [
        {
          "name": "stdout",
          "output_type": "stream",
          "text": [
            "Ingresa tu nombre\n",
            "carlos\n",
            "Ingresa tu edad\n",
            "22\n"
          ]
        }
      ]
    },
    {
      "cell_type": "code",
      "source": [
        "print(\"Eres\", x, \"y tienes \", y, \"años\")"
      ],
      "metadata": {
        "colab": {
          "base_uri": "https://localhost:8080/"
        },
        "id": "e-5I2oa4YbWZ",
        "outputId": "c59e5042-522c-4481-84e9-c90a2983bca9"
      },
      "execution_count": null,
      "outputs": [
        {
          "output_type": "stream",
          "name": "stdout",
          "text": [
            "Eres carlos y tienes  22 años\n"
          ]
        }
      ]
    },
    {
      "cell_type": "code",
      "source": [],
      "metadata": {
        "id": "ioUb23OvYq6c"
      },
      "execution_count": null,
      "outputs": []
    },
    {
      "cell_type": "markdown",
      "source": [
        "## Operaciones"
      ],
      "metadata": {
        "id": "gNjHpY3TZcZh"
      }
    },
    {
      "cell_type": "code",
      "source": [
        "# Suma\n",
        "print(4 + 26.2)\n",
        "# Resta\n",
        "print(4 - 26.2)\n",
        "# Multiplicación\n",
        "print(int(4*26.2))\n",
        "# División\n",
        "print(4/26.2)\n",
        "# Potencia\n",
        "print(round(4**0.2, 4))"
      ],
      "metadata": {
        "colab": {
          "base_uri": "https://localhost:8080/"
        },
        "id": "joIVPwgdZjEv",
        "outputId": "59f03c31-be87-46bd-afe3-6bedfd1a647f"
      },
      "execution_count": null,
      "outputs": [
        {
          "output_type": "stream",
          "name": "stdout",
          "text": [
            "30.2\n",
            "-22.2\n",
            "104\n",
            "0.15267175572519084\n",
            "1.3195\n"
          ]
        }
      ]
    },
    {
      "cell_type": "markdown",
      "source": [
        "## Conjunto de datos"
      ],
      "metadata": {
        "id": "_sAaRrVFa7Zt"
      }
    },
    {
      "cell_type": "markdown",
      "source": [
        "### Listas"
      ],
      "metadata": {
        "id": "egVQJpVTbCfE"
      }
    },
    {
      "cell_type": "code",
      "source": [
        "L = [4, 16, 22.3, \"Hola\"]\n",
        "L"
      ],
      "metadata": {
        "colab": {
          "base_uri": "https://localhost:8080/"
        },
        "id": "apkJYHzdZrOa",
        "outputId": "b850bc6a-8c1d-4479-d551-57d4dfa6a7ea"
      },
      "execution_count": null,
      "outputs": [
        {
          "output_type": "execute_result",
          "data": {
            "text/plain": [
              "[4, 16, 22.3, 'Hola']"
            ]
          },
          "metadata": {},
          "execution_count": 32
        }
      ]
    },
    {
      "cell_type": "code",
      "source": [
        "L[2]"
      ],
      "metadata": {
        "colab": {
          "base_uri": "https://localhost:8080/"
        },
        "id": "8F03Db53bUru",
        "outputId": "063332f9-713b-41a7-9edf-418743d3aadc"
      },
      "execution_count": null,
      "outputs": [
        {
          "output_type": "execute_result",
          "data": {
            "text/plain": [
              "22.3"
            ]
          },
          "metadata": {},
          "execution_count": 33
        }
      ]
    },
    {
      "cell_type": "code",
      "source": [
        "L[2] = 14.6\n",
        "L"
      ],
      "metadata": {
        "colab": {
          "base_uri": "https://localhost:8080/"
        },
        "id": "IeubDXK-bizi",
        "outputId": "10c4ec7a-984b-460f-ed8a-dcf70db942d4"
      },
      "execution_count": null,
      "outputs": [
        {
          "output_type": "execute_result",
          "data": {
            "text/plain": [
              "[4, 16, 14.6, 'Hola']"
            ]
          },
          "metadata": {},
          "execution_count": 34
        }
      ]
    },
    {
      "cell_type": "code",
      "source": [
        "p = []\n",
        "print(p)"
      ],
      "metadata": {
        "colab": {
          "base_uri": "https://localhost:8080/"
        },
        "id": "aAfTOvUNbnvy",
        "outputId": "e55e8509-5300-4e5e-8f0e-d25bbdea231f"
      },
      "execution_count": null,
      "outputs": [
        {
          "output_type": "stream",
          "name": "stdout",
          "text": [
            "[]\n"
          ]
        }
      ]
    },
    {
      "cell_type": "code",
      "source": [
        "p.append(4)\n",
        "p"
      ],
      "metadata": {
        "colab": {
          "base_uri": "https://localhost:8080/"
        },
        "id": "n5Gsxt4kbwLZ",
        "outputId": "8e0ef88c-e464-4aa1-b1c5-ade84a4b7647"
      },
      "execution_count": null,
      "outputs": [
        {
          "output_type": "execute_result",
          "data": {
            "text/plain": [
              "[4, 4, 4]"
            ]
          },
          "metadata": {},
          "execution_count": 39
        }
      ]
    },
    {
      "cell_type": "code",
      "source": [
        "print(L+p)"
      ],
      "metadata": {
        "colab": {
          "base_uri": "https://localhost:8080/"
        },
        "id": "mb2oiW-nb4p5",
        "outputId": "46f93a94-aeb1-4ca6-8efa-193b5da9763b"
      },
      "execution_count": null,
      "outputs": [
        {
          "output_type": "stream",
          "name": "stdout",
          "text": [
            "[4, 16, 14.6, 'Hola', 4, 4, 4, 4]\n"
          ]
        }
      ]
    },
    {
      "cell_type": "code",
      "source": [
        "p.append(\"carlos\")\n",
        "p"
      ],
      "metadata": {
        "colab": {
          "base_uri": "https://localhost:8080/"
        },
        "id": "UMy1A8_ScQjP",
        "outputId": "9ddb5b8b-0b49-4f6b-ef54-49f05e79569e"
      },
      "execution_count": null,
      "outputs": [
        {
          "output_type": "execute_result",
          "data": {
            "text/plain": [
              "[4, 4, 4, 'carlos', 'carlos']"
            ]
          },
          "metadata": {},
          "execution_count": 42
        }
      ]
    },
    {
      "cell_type": "code",
      "source": [
        "del p[3]\n",
        "p"
      ],
      "metadata": {
        "colab": {
          "base_uri": "https://localhost:8080/"
        },
        "id": "GHANqyAjcc5u",
        "outputId": "cda5af7a-962b-4d4d-f270-fd53ebf76118"
      },
      "execution_count": null,
      "outputs": [
        {
          "output_type": "execute_result",
          "data": {
            "text/plain": [
              "[4, 4, 4, 'carlos']"
            ]
          },
          "metadata": {},
          "execution_count": 43
        }
      ]
    },
    {
      "cell_type": "code",
      "source": [
        "y = [\"hola\", 45.6, 8, \"Hello\", 3.45, 54]\n",
        "y"
      ],
      "metadata": {
        "colab": {
          "base_uri": "https://localhost:8080/"
        },
        "id": "nPvMcVeDctFd",
        "outputId": "db6d4fb9-536a-48a7-9853-f1cc320bd610"
      },
      "execution_count": null,
      "outputs": [
        {
          "output_type": "execute_result",
          "data": {
            "text/plain": [
              "['hola', 45.6, 8, 'Hello', 3.45, 54]"
            ]
          },
          "metadata": {},
          "execution_count": 3
        }
      ]
    },
    {
      "cell_type": "code",
      "source": [
        "y.remove(45.6)\n",
        "y"
      ],
      "metadata": {
        "colab": {
          "base_uri": "https://localhost:8080/"
        },
        "id": "VXI2YtgQdfB5",
        "outputId": "2a1b2feb-02a4-4a7a-86ba-ece10ece1008"
      },
      "execution_count": null,
      "outputs": [
        {
          "output_type": "execute_result",
          "data": {
            "text/plain": [
              "['hola', 8, 'Hello', 3.45, 54]"
            ]
          },
          "metadata": {},
          "execution_count": 4
        }
      ]
    },
    {
      "cell_type": "code",
      "source": [
        "del y[1]\n",
        "y"
      ],
      "metadata": {
        "colab": {
          "base_uri": "https://localhost:8080/"
        },
        "id": "dZMPfmqxEyQ2",
        "outputId": "8290da32-2ab6-4cf4-bea0-74b2385bc216"
      },
      "execution_count": null,
      "outputs": [
        {
          "output_type": "execute_result",
          "data": {
            "text/plain": [
              "['hola', 'Hello', 3.45, 54]"
            ]
          },
          "metadata": {},
          "execution_count": 5
        }
      ]
    },
    {
      "cell_type": "code",
      "source": [
        "y[1][2]"
      ],
      "metadata": {
        "colab": {
          "base_uri": "https://localhost:8080/",
          "height": 36
        },
        "id": "pOyjX2DoFJVa",
        "outputId": "f500892a-d5c7-4f44-ee9f-965f5d7ddb19"
      },
      "execution_count": null,
      "outputs": [
        {
          "output_type": "execute_result",
          "data": {
            "text/plain": [
              "'l'"
            ],
            "application/vnd.google.colaboratory.intrinsic+json": {
              "type": "string"
            }
          },
          "metadata": {},
          "execution_count": 7
        }
      ]
    },
    {
      "cell_type": "code",
      "source": [
        "y"
      ],
      "metadata": {
        "colab": {
          "base_uri": "https://localhost:8080/"
        },
        "id": "mYtyJayfFOzP",
        "outputId": "5074b5ed-1ab0-4b19-cb64-d90d7c27903e"
      },
      "execution_count": null,
      "outputs": [
        {
          "output_type": "execute_result",
          "data": {
            "text/plain": [
              "['hola', 'Hello', 3.45, 54]"
            ]
          },
          "metadata": {},
          "execution_count": 8
        }
      ]
    },
    {
      "cell_type": "code",
      "source": [
        "e = y.pop(2)\n",
        "print(e)\n",
        "print(y)"
      ],
      "metadata": {
        "colab": {
          "base_uri": "https://localhost:8080/"
        },
        "id": "j6qFEjU9FcWE",
        "outputId": "b542d914-918d-4a79-d05a-6a1d7abb71b7"
      },
      "execution_count": null,
      "outputs": [
        {
          "output_type": "stream",
          "name": "stdout",
          "text": [
            "3.45\n",
            "['hola', 'Hello', 54]\n"
          ]
        }
      ]
    },
    {
      "cell_type": "markdown",
      "source": [
        "### Diccionarios"
      ],
      "metadata": {
        "id": "yCq8GmFCd1wm"
      }
    },
    {
      "cell_type": "code",
      "source": [
        "d = {\"clave1\": 23, \"clave2\": \"Valor2\"}\n",
        "d"
      ],
      "metadata": {
        "colab": {
          "base_uri": "https://localhost:8080/"
        },
        "id": "RzUS7rh-d7dk",
        "outputId": "dc4639a9-9fcb-4227-94e8-060b2f4c2e48"
      },
      "execution_count": null,
      "outputs": [
        {
          "output_type": "execute_result",
          "data": {
            "text/plain": [
              "{'clave1': 23, 'clave2': 'Valor2'}"
            ]
          },
          "metadata": {},
          "execution_count": 16
        }
      ]
    },
    {
      "cell_type": "code",
      "source": [
        "d[\"Llave3\"] = 128.6\n",
        "d[5] = \"Hi\"\n",
        "d"
      ],
      "metadata": {
        "colab": {
          "base_uri": "https://localhost:8080/"
        },
        "id": "fX1au5NpNtm-",
        "outputId": "d6eacebb-74d8-4ec4-ccad-4463910c3545"
      },
      "execution_count": null,
      "outputs": [
        {
          "output_type": "execute_result",
          "data": {
            "text/plain": [
              "{'clave1': 23, 'clave2': 'Valor2', 'Llave3': 128.6, 5: 'Hi'}"
            ]
          },
          "metadata": {},
          "execution_count": 17
        }
      ]
    },
    {
      "cell_type": "code",
      "source": [
        "for e in d:\n",
        "  print(e)"
      ],
      "metadata": {
        "colab": {
          "base_uri": "https://localhost:8080/"
        },
        "id": "Wpl7-_BLO1BN",
        "outputId": "4c0947c4-3584-4923-d4da-26732174c532"
      },
      "execution_count": null,
      "outputs": [
        {
          "output_type": "stream",
          "name": "stdout",
          "text": [
            "clave1\n",
            "clave2\n",
            "Llave3\n",
            "5\n"
          ]
        }
      ]
    },
    {
      "cell_type": "code",
      "source": [
        "for e in d.values():\n",
        "  print(e)"
      ],
      "metadata": {
        "colab": {
          "base_uri": "https://localhost:8080/"
        },
        "id": "eXiJmetzPByL",
        "outputId": "4052ad81-5474-4497-cb9a-9bc5514f07c3"
      },
      "execution_count": null,
      "outputs": [
        {
          "output_type": "stream",
          "name": "stdout",
          "text": [
            "23\n",
            "Valor2\n",
            "128.6\n",
            "Hi\n"
          ]
        }
      ]
    },
    {
      "cell_type": "code",
      "source": [
        "del d[\"Llave4\"]\n",
        "d"
      ],
      "metadata": {
        "colab": {
          "base_uri": "https://localhost:8080/"
        },
        "id": "1A_ttyULN9yQ",
        "outputId": "d4b408ea-e52d-4db9-da7f-9d106a8f188c"
      },
      "execution_count": null,
      "outputs": [
        {
          "output_type": "execute_result",
          "data": {
            "text/plain": [
              "{'clave1': 23, 'clave2': 'Valor2', 'Llave3': 128.6}"
            ]
          },
          "metadata": {},
          "execution_count": 15
        }
      ]
    },
    {
      "cell_type": "code",
      "source": [
        "d[\"clave2\"]"
      ],
      "metadata": {
        "colab": {
          "base_uri": "https://localhost:8080/",
          "height": 35
        },
        "id": "qNnS0K8tdn_Q",
        "outputId": "ccbad9bf-30ca-4b33-c825-8badaeac5c5e"
      },
      "execution_count": null,
      "outputs": [
        {
          "output_type": "execute_result",
          "data": {
            "text/plain": [
              "'Valor2'"
            ],
            "application/vnd.google.colaboratory.intrinsic+json": {
              "type": "string"
            }
          },
          "metadata": {},
          "execution_count": 52
        }
      ]
    },
    {
      "cell_type": "markdown",
      "source": [
        "## Ejemplos"
      ],
      "metadata": {
        "id": "7sOYlU-tefi1"
      }
    },
    {
      "cell_type": "markdown",
      "source": [
        "### Diccionario"
      ],
      "metadata": {
        "id": "S7Q-VEKEIkvN"
      }
    },
    {
      "cell_type": "code",
      "source": [
        "D = {\"Amigos\": {\"pedro\": {\"Edad\": 25, \"Estatura\": 1.75, \"Ojos\": \"Cafes\"},\n",
        "                \"Amanda\": {\"Edad\": 22, \"Estatura\": 1.65, \"Ojos\": \"Azules\"}}}\n",
        "D"
      ],
      "metadata": {
        "colab": {
          "base_uri": "https://localhost:8080/"
        },
        "id": "Io0UI2R9egk8",
        "outputId": "ca38d8e8-a573-4b00-d2ae-e3f732bea241"
      },
      "execution_count": null,
      "outputs": [
        {
          "output_type": "execute_result",
          "data": {
            "text/plain": [
              "{'Amigos': {'pedro': {'Edad': 25, 'Estatura': 1.75, 'Ojos': 'Cafes'},\n",
              "  'Amanda': {'Edad': 22, 'Estatura': 1.65, 'Ojos': 'Azules'}}}"
            ]
          },
          "metadata": {},
          "execution_count": 56
        }
      ]
    },
    {
      "cell_type": "code",
      "source": [
        "D[\"Amigos\"][\"Amanda\"][\"Estatura\"]= 1.68\n",
        "D"
      ],
      "metadata": {
        "colab": {
          "base_uri": "https://localhost:8080/"
        },
        "id": "mMo9pTBme35F",
        "outputId": "928ac264-ea23-4c6a-8b4b-d36536f6d176"
      },
      "execution_count": null,
      "outputs": [
        {
          "output_type": "execute_result",
          "data": {
            "text/plain": [
              "{'Amigos': {'pedro': {'Edad': 25, 'Estatura': 1.75, 'Ojos': 'Cafes'},\n",
              "  'Amanda': {'Edad': 22, 'Estatura': 1.68, 'Ojos': 'Azules'}}}"
            ]
          },
          "metadata": {},
          "execution_count": 60
        }
      ]
    },
    {
      "cell_type": "code",
      "source": [
        "print(\"Ingresa tu peso en kilogramos\")\n",
        "p = int(input())\n",
        "print(\"Ingresa tu estatura en metros\")\n",
        "e = float(input())"
      ],
      "metadata": {
        "colab": {
          "base_uri": "https://localhost:8080/"
        },
        "id": "LY4YWvxKfqeX",
        "outputId": "a7293068-09a5-470f-f793-cca2fac7d125"
      },
      "execution_count": null,
      "outputs": [
        {
          "name": "stdout",
          "output_type": "stream",
          "text": [
            "Ingresa tu peso en kilogramos\n",
            "78\n",
            "Ingresa tu estatura en metros\n",
            "1.78\n"
          ]
        }
      ]
    },
    {
      "cell_type": "code",
      "source": [
        "imc = p/(e**2)\n",
        "print(\"Tu imc es de \", round(imc, 2))"
      ],
      "metadata": {
        "colab": {
          "base_uri": "https://localhost:8080/"
        },
        "id": "TULdHJ6IhA2-",
        "outputId": "42cac523-4ed7-46ce-d36a-7c98dbaad5f0"
      },
      "execution_count": null,
      "outputs": [
        {
          "output_type": "stream",
          "name": "stdout",
          "text": [
            "Tu imc es de  24.62\n"
          ]
        }
      ]
    },
    {
      "cell_type": "code",
      "source": [],
      "metadata": {
        "id": "FPwhTikChWky"
      },
      "execution_count": null,
      "outputs": []
    },
    {
      "cell_type": "markdown",
      "source": [
        "### Prestamo"
      ],
      "metadata": {
        "id": "VfNquE8YITEL"
      }
    },
    {
      "cell_type": "markdown",
      "metadata": {
        "id": "70bbf554"
      },
      "source": [
        "Calcula la cuota mensual fija para un prestamo p, con una tasa de interes mensual t a n meses.\n",
        "$$c=\\frac{pt}{1-(1+t)^{-n}}$$"
      ]
    },
    {
      "cell_type": "code",
      "execution_count": null,
      "metadata": {
        "id": "91bba92c"
      },
      "outputs": [],
      "source": [
        "p = 32000000\n",
        "ia = 20 # Interés anual\n",
        "t = ia/(100*12) # Interés mensual porcentual\n",
        "n = 72"
      ]
    },
    {
      "cell_type": "code",
      "execution_count": null,
      "metadata": {
        "id": "8304d15e",
        "outputId": "07f2566c-0f10-41c1-b5d3-55753632af99",
        "colab": {
          "base_uri": "https://localhost:8080/"
        }
      },
      "outputs": [
        {
          "output_type": "stream",
          "name": "stdout",
          "text": [
            "Para un prestamo de  32000000 a  72 cuotas\n",
            "La cuota aproximada con adiciones es de $ 766490\n",
            "Pagarás en total  55187311\n",
            "Pagarás  23187311 de mas\n"
          ]
        }
      ],
      "source": [
        "c = p*t/(1-(1+t)**(-n))\n",
        "cc = c + 0*c\n",
        "T = int(cc*n)\n",
        "#print(\"La cuota exacta es de $\", int(c))\n",
        "print(\"Para un prestamo de \", p, \"a \", n, \"cuotas\")\n",
        "print(\"La cuota aproximada con adiciones es de $\", int(cc))\n",
        "print(\"Pagarás en total \", T)\n",
        "print(\"Pagarás \", T-p, \"de mas\")"
      ]
    }
  ]
}