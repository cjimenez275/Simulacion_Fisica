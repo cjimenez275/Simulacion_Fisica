{
  "nbformat": 4,
  "nbformat_minor": 0,
  "metadata": {
    "colab": {
      "provenance": [],
      "authorship_tag": "ABX9TyOA5QinaOUefVVCRfRRHcTJ",
      "include_colab_link": true
    },
    "kernelspec": {
      "name": "python3",
      "display_name": "Python 3"
    },
    "language_info": {
      "name": "python"
    }
  },
  "cells": [
    {
      "cell_type": "markdown",
      "metadata": {
        "id": "view-in-github",
        "colab_type": "text"
      },
      "source": [
        "<a href=\"https://colab.research.google.com/github/cjimenez275/Simulacion_Fisica/blob/main/musica.ipynb\" target=\"_parent\"><img src=\"https://colab.research.google.com/assets/colab-badge.svg\" alt=\"Open In Colab\"/></a>"
      ]
    },
    {
      "cell_type": "code",
      "execution_count": null,
      "metadata": {
        "id": "flZFinIK-xhg"
      },
      "outputs": [],
      "source": [
        "import pandas as pd\n",
        "import random"
      ]
    },
    {
      "cell_type": "markdown",
      "source": [
        "Elige tres géneros musicales entre estos:\n",
        "Rock = Ro\n",
        "Pop = P\n",
        "Tango = T\n",
        "Regueton = R\n",
        "Metal = M\n",
        "Salsa = S"
      ],
      "metadata": {
        "id": "Yh31ggYoN2UH"
      }
    },
    {
      "cell_type": "code",
      "source": [
        "encabezado = [\"Tiempo_escuchado\", \"Porcentaje_volumen\", \"Género_musical\"]\n",
        "musica = {\"Canción1\": [10, 45, \"genero1\"],\n",
        "          \"Canción2\": [45, 84, \"genero2\"],\n",
        "          \"Canción3\": [58, 14, \"genero3\"],\n",
        "          \"Canción4\": [100, 100, \"P\"],\n",
        "          \"Canción5\": [92, 94, \"R\"],\n",
        "          \"Canción6\": [15, 4, \"R\"]}\n",
        "musica = pd.DataFrame(musica, index=encabezado)\n",
        "musica = musica.T\n"
      ],
      "metadata": {
        "id": "9rdtNuXz-4Jp"
      },
      "execution_count": null,
      "outputs": []
    },
    {
      "cell_type": "code",
      "source": [
        "# Gustos por género\n",
        "NR = musica[musica[\"Género\"]==\"R\"].count()[\"tiempo\"]\n",
        "NP = musica[musica[\"Género\"]==\"P\"].count()[\"tiempo\"]\n",
        "NT = musica[musica[\"Género\"]==\"T\"].count()[\"tiempo\"]\n",
        "pr = 100*NR/(NR+NP+NT)\n",
        "pp = 100*NP/(NR+NP+NT)\n",
        "pt = 100*NT/(NR+NP+NT)\n",
        "print(\"tus gustos son:\",  int(pr), \"%\", \"Rock\")\n",
        "print(\"tus gustos son:\",  int(pt), \"%\", \"Tango\")\n",
        "print(\"tus gustos son:\",  int(pp), \"%\", \"Pop\")"
      ],
      "metadata": {
        "colab": {
          "base_uri": "https://localhost:8080/"
        },
        "id": "k_ZjvCX5jWvJ",
        "outputId": "23263e5a-0783-4df2-f2dc-b88b9caecd11"
      },
      "execution_count": null,
      "outputs": [
        {
          "output_type": "stream",
          "name": "stdout",
          "text": [
            "tus gustos son: 50 % Rock\n",
            "tus gustos son: 16 % Tango\n",
            "tus gustos son: 33 % Pop\n"
          ]
        }
      ]
    },
    {
      "cell_type": "code",
      "source": [
        "# Gustos por volumen\n",
        "vR = sum(musica[musica[\"Género\"]==\"R\"][\"volumen\"])\n",
        "vP = sum(musica[musica[\"Género\"]==\"P\"][\"volumen\"])\n",
        "vT = sum(musica[musica[\"Género\"]==\"T\"][\"volumen\"])\n",
        "pvr = 100*vR/(vR+vP+vT)\n",
        "pvp = 100*vP/(vR+vP+vT)\n",
        "pvt = 100*vT/(vR+vP+vT)\n",
        "print(\"tus gustos son:\",  int(pvr), \"%\", \"Rock\")\n",
        "print(\"tus gustos son:\",  int(pvt), \"%\", \"Tango\")\n",
        "print(\"tus gustos son:\",  int(pvp), \"%\", \"Pop\")"
      ],
      "metadata": {
        "colab": {
          "base_uri": "https://localhost:8080/"
        },
        "id": "yObgotX9nHEu",
        "outputId": "a55b45d9-9d15-40db-e3f5-7057ee0c5ad1"
      },
      "execution_count": null,
      "outputs": [
        {
          "output_type": "stream",
          "name": "stdout",
          "text": [
            "tus gustos son: 41 % Rock\n",
            "tus gustos son: 4 % Tango\n",
            "tus gustos son: 53 % Pop\n"
          ]
        }
      ]
    },
    {
      "cell_type": "code",
      "source": [
        "Lista = []\n",
        "for i in range(int(pr)):\n",
        "  Lista.append(\"R\")\n",
        "for i in range(int(pt)):\n",
        "  Lista.append(\"T\")\n",
        "for i in range(int(pp)):\n",
        "  Lista.append(\"P\")\n",
        "\n",
        "encabezado = [\"tiempo\", \"volumen\", \"Género\"]\n",
        "Nueva_musica = {\"n7\": [0, 0, \"R\"],\n",
        "                \"n8\": [0, 0, \"P\"],\n",
        "                \"n9\": [0, 0, \"T\"],\n",
        "                \"n10\": [0, 0, \"P\"],\n",
        "                \"n11\": [0, 0, \"R\"],\n",
        "                \"n12\": [0, 0, \"R\"]}\n",
        "Nueva_musica = pd.DataFrame(Nueva_musica, index=encabezado)\n",
        "Nueva_musica = Nueva_musica.T\n",
        "Nueva_musica\n",
        "x = random.choice(Lista)\n",
        "nc = []\n",
        "for i in range(len(Nueva_musica)):\n",
        "  if Nueva_musica[\"Género\"].iloc[i] == x:\n",
        "    nc.append(Nueva_musica.index[i])\n",
        "NNC = random.choice(nc)\n",
        "print(\"Tu canción es: \", NNC)"
      ],
      "metadata": {
        "colab": {
          "base_uri": "https://localhost:8080/"
        },
        "id": "-5v4u6LpHgOM",
        "outputId": "8e03f34f-b5e3-4bf4-b114-730374ded0ef"
      },
      "execution_count": null,
      "outputs": [
        {
          "output_type": "stream",
          "name": "stdout",
          "text": [
            "Tu canción es:  n7\n"
          ]
        }
      ]
    },
    {
      "cell_type": "code",
      "source": [
        "NNC"
      ],
      "metadata": {
        "colab": {
          "base_uri": "https://localhost:8080/",
          "height": 36
        },
        "id": "V0VDk-01KeC5",
        "outputId": "f37c1e11-3543-4106-ab8a-d96771596e21"
      },
      "execution_count": null,
      "outputs": [
        {
          "output_type": "execute_result",
          "data": {
            "text/plain": [
              "'n11'"
            ],
            "application/vnd.google.colaboratory.intrinsic+json": {
              "type": "string"
            }
          },
          "metadata": {},
          "execution_count": 65
        }
      ]
    },
    {
      "cell_type": "code",
      "source": [],
      "metadata": {
        "id": "raizJzibNiHd"
      },
      "execution_count": null,
      "outputs": []
    }
  ]
}