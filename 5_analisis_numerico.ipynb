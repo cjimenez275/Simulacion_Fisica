{
  "nbformat": 4,
  "nbformat_minor": 0,
  "metadata": {
    "colab": {
      "provenance": [],
      "authorship_tag": "ABX9TyNUpy2oWTtePoc7/QOzfOfZ",
      "include_colab_link": true
    },
    "kernelspec": {
      "name": "python3",
      "display_name": "Python 3"
    },
    "language_info": {
      "name": "python"
    }
  },
  "cells": [
    {
      "cell_type": "markdown",
      "metadata": {
        "id": "view-in-github",
        "colab_type": "text"
      },
      "source": [
        "<a href=\"https://colab.research.google.com/github/cjimenez275/Simulacion_Fisica/blob/main/5_analisis_numerico.ipynb\" target=\"_parent\"><img src=\"https://colab.research.google.com/assets/colab-badge.svg\" alt=\"Open In Colab\"/></a>"
      ]
    },
    {
      "cell_type": "markdown",
      "source": [
        "# Análisis numérico\n",
        "* Integración\n",
        "* Raices\n"
      ],
      "metadata": {
        "id": "5Qn5-By_pstX"
      }
    },
    {
      "cell_type": "markdown",
      "source": [
        "## Integración"
      ],
      "metadata": {
        "id": "I8wzfwD4qosQ"
      }
    },
    {
      "cell_type": "code",
      "source": [
        "import numpy as np\n",
        "from matplotlib import pyplot as plt"
      ],
      "metadata": {
        "id": "yK63xX23qtwT"
      },
      "execution_count": null,
      "outputs": []
    },
    {
      "cell_type": "markdown",
      "source": [
        "$$\\int_0^1sen(x)cos(x)dx=\\frac{(sen1)^2}{2}≈0.354036$$"
      ],
      "metadata": {
        "id": "cqAkFTPZq0KE"
      }
    },
    {
      "cell_type": "code",
      "execution_count": null,
      "metadata": {
        "colab": {
          "base_uri": "https://localhost:8080/"
        },
        "id": "pMwgvMSApgAe",
        "outputId": "6ef8060b-3c01-463e-841b-4ddb6945726f"
      },
      "outputs": [
        {
          "output_type": "stream",
          "name": "stdout",
          "text": [
            "La integral exacta de sen(x)cos(x) es:  0.354037\n",
            "La integral aproximada a 100 intervalos es:  0.356298\n",
            "El porcentaje de error es:  0.639 %\n"
          ]
        }
      ],
      "source": [
        "\n",
        "#Definición de los parámetros iniciales: Intervalo (a,b) y la partición n\n",
        "a = 0\n",
        "b = 1\n",
        "n = 100\n",
        "delta = (b-a)/n\n",
        "\n",
        "# Suma de Riemann\n",
        "I = 0\n",
        "for i in range(1,n+1):\n",
        "    I = I + ((b-a)/n)*f(a+i*delta)\n",
        "\n",
        "# Integral exacta Ie, aproximada I y el error porcentual err.\n",
        "Ie = 0.5*(np.sin(1))**2\n",
        "err = 100*(I-Ie)/Ie\n",
        "print(\"La integral exacta de sen(x)cos(x) es: \", round(Ie, 6))\n",
        "print(\"La integral aproximada a\", n,  \"intervalos es: \", round(I, 6))\n",
        "print(\"El porcentaje de error es: \", round(err, 3), \"%\")"
      ]
    },
    {
      "cell_type": "markdown",
      "source": [
        "## Método de Bisección"
      ],
      "metadata": {
        "id": "-HnIHK81WGmo"
      }
    },
    {
      "cell_type": "code",
      "source": [
        "import numpy as np\n",
        "import matplotlib.pyplot as plt\n",
        "\n",
        "fx = lambda x: x**3 + 4*x**2 - 10\n",
        "a = 1\n",
        "b = 2\n",
        "tolerancia = 0.001\n",
        "tramo = b-a\n",
        "while tramo > tolerancia:\n",
        "    c = (b+a)/2\n",
        "    fa = fx(a)\n",
        "    fb = fx(b)\n",
        "    fc = fx(c)\n",
        "    if fa*fc < 0:\n",
        "        a = a\n",
        "        b = c\n",
        "    elif fa*fc > 0:\n",
        "        a = c\n",
        "        b = b\n",
        "    tramo = b-a\n",
        "\n",
        "plt.grid(True)\n",
        "x = np.linspace(1, 2, 100)\n",
        "plt.plot(x, fx(x), color='red')\n",
        "print('La raiz de la función es: ', c)\n",
        "print('error en tramo: ', tramo)\n",
        "\n"
      ],
      "metadata": {
        "id": "avK5BLZhrda5",
        "colab": {
          "base_uri": "https://localhost:8080/",
          "height": 466
        },
        "outputId": "8d2a71ec-7ac9-41be-d672-be43726a924c"
      },
      "execution_count": 1,
      "outputs": [
        {
          "output_type": "stream",
          "name": "stdout",
          "text": [
            "La raiz de la función es:  1.3642578125\n",
            "error en tramo:  0.0009765625\n"
          ]
        },
        {
          "output_type": "display_data",
          "data": {
            "text/plain": [
              "<Figure size 640x480 with 1 Axes>"
            ],
            "image/png": "[encoded data removed]"
          },
          "metadata": {}
        }
      ]
    },
    {
      "cell_type": "markdown",
      "source": [
        "## Método de Newton"
      ],
      "metadata": {
        "id": "W_zKeI2dWceW"
      }
    },
    {
      "cell_type": "code",
      "source": [
        "\n",
        "import numpy as np\n",
        "\n",
        "# INGRESO función y su derivada\n",
        "fx  = lambda x: x**3 + 4*(x**2) - 10\n",
        "dfx = lambda x: 3*(x**2) + 8*x\n",
        "\n",
        "tolera = 0.001 # Me permite ajustar la precisión que yo quiera\n",
        "\n",
        "# PROCEDIMIENTO\n",
        "tabla = []\n",
        "tramo = abs(2*tolera)\n",
        "xi = 2 #Punto inicial Po\n",
        "while tramo >= tolera:\n",
        "    xnuevo = xi - fx(xi)/dfx(xi)\n",
        "    tramo  = abs(xnuevo-xi)\n",
        "    tabla.append([xi,xnuevo,tramo])\n",
        "    xi = xnuevo\n",
        "\n",
        "# convierte la lista a un arreglo.\n",
        "tabla = np.array(tabla)\n",
        "n = len(tabla)\n",
        "\n",
        "# SALIDA\n",
        "# print(['xi', 'xnuevo', 'tramo'])\n",
        "# print(tabla)\n",
        "print('La función tiene cero en: ', round(xi, 6))\n",
        "print('con error de: ',round(tramo, 6))\n",
        "print(\"Número de iteraciones: \", n)"
      ],
      "metadata": {
        "colab": {
          "base_uri": "https://localhost:8080/"
        },
        "id": "tBeawLM0WM5O",
        "outputId": "8918e433-6d78-4445-e0a4-a63ecdecb0e1"
      },
      "execution_count": 3,
      "outputs": [
        {
          "output_type": "stream",
          "name": "stdout",
          "text": [
            "La función tiene cero en:  1.36523\n",
            "con error de:  3.2e-05\n",
            "Número de iteraciones:  4\n"
          ]
        }
      ]
    },
    {
      "cell_type": "code",
      "source": [],
      "metadata": {
        "id": "nU4QqIljWfIa"
      },
      "execution_count": null,
      "outputs": []
    }
  ]
}