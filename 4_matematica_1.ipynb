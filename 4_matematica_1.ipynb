{
  "nbformat": 4,
  "nbformat_minor": 0,
  "metadata": {
    "colab": {
      "provenance": [],
      "collapsed_sections": [
        "hS3QZlkjPZsg"
      ],
      "authorship_tag": "ABX9TyPoN13Ruu5XZ9R3QM9z7HWk",
      "include_colab_link": true
    },
    "kernelspec": {
      "name": "python3",
      "display_name": "Python 3"
    },
    "language_info": {
      "name": "python"
    }
  },
  "cells": [
    {
      "cell_type": "markdown",
      "metadata": {
        "id": "view-in-github",
        "colab_type": "text"
      },
      "source": [
        "<a href=\"https://colab.research.google.com/github/cjimenez275/Simulacion_Fisica/blob/main/4_matematica_1.ipynb\" target=\"_parent\"><img src=\"https://colab.research.google.com/assets/colab-badge.svg\" alt=\"Open In Colab\"/></a>"
      ]
    },
    {
      "cell_type": "markdown",
      "source": [
        "# Clase 4\n",
        "* Vectores\n",
        "* Matrices\n",
        "* Ecuaciones diferenciales"
      ],
      "metadata": {
        "id": "BElBW6KzB_NH"
      }
    },
    {
      "cell_type": "code",
      "execution_count": null,
      "metadata": {
        "id": "vPhRToH_B3kp"
      },
      "outputs": [],
      "source": [
        "\n",
        "from matplotlib import pyplot as plt\n",
        "import numpy as np\n"
      ]
    },
    {
      "cell_type": "markdown",
      "source": [
        "## Vectores"
      ],
      "metadata": {
        "id": "hS3QZlkjPZsg"
      }
    },
    {
      "cell_type": "code",
      "source": [
        "v1 = np.array([1, 3])\n",
        "v2 = np.array([5, -4])\n",
        "v3 = np.array([-7, 1])\n",
        "print(v1)\n",
        "print(v2)\n",
        "print(v3)"
      ],
      "metadata": {
        "colab": {
          "base_uri": "https://localhost:8080/"
        },
        "id": "R8xDKVjvPYVb",
        "outputId": "96cafdb4-ea9e-4363-e66e-ba4460404603"
      },
      "execution_count": null,
      "outputs": [
        {
          "output_type": "stream",
          "name": "stdout",
          "text": [
            "[1 3]\n",
            "[ 5 -4]\n",
            "[-7  1]\n"
          ]
        }
      ]
    },
    {
      "cell_type": "code",
      "source": [
        "print(v1 + v2)\n",
        "print(np.dot(v1,v3))"
      ],
      "metadata": {
        "colab": {
          "base_uri": "https://localhost:8080/"
        },
        "id": "_6eYzGIqQf6v",
        "outputId": "763c018b-f959-4202-873c-393aa05b3f2e"
      },
      "execution_count": null,
      "outputs": [
        {
          "output_type": "stream",
          "name": "stdout",
          "text": [
            "[ 6 -1]\n",
            "-4\n"
          ]
        }
      ]
    },
    {
      "cell_type": "markdown",
      "source": [
        "## Matrices"
      ],
      "metadata": {
        "id": "-pBmS2TVQ8C2"
      }
    },
    {
      "cell_type": "code",
      "source": [
        "#Multiplicacion y suma\n",
        "z = np.array([[1, 3], [-1, 10]])\n",
        "w = np.array([[2, 4], [1, -3]])\n",
        "\n",
        "print(\"La matriz z es: \")\n",
        "print(z)\n",
        "print(\"La matriz w es: \")\n",
        "print(w)\n",
        "\n",
        "suma = w + z\n",
        "print(\"La matriz w + z es: \")\n",
        "print(suma)\n",
        "\n",
        "result = np.dot(z,w)\n",
        "print(\"La matriz z por w es: \")\n",
        "print(result)\n",
        "\n"
      ],
      "metadata": {
        "colab": {
          "base_uri": "https://localhost:8080/"
        },
        "id": "-If0aGhIPWgJ",
        "outputId": "910d2e6c-0a77-4dfb-e33b-718caa90556e"
      },
      "execution_count": null,
      "outputs": [
        {
          "output_type": "stream",
          "name": "stdout",
          "text": [
            "La matriz z es: \n",
            "[[ 1  3]\n",
            " [-1 10]]\n",
            "La matriz w es: \n",
            "[[ 2  4]\n",
            " [ 1 -3]]\n",
            "La matriz w + z es: \n",
            "[[3 7]\n",
            " [0 7]]\n",
            "La matriz z por w es: \n",
            "[[  5  -5]\n",
            " [  8 -34]]\n"
          ]
        }
      ]
    },
    {
      "cell_type": "code",
      "source": [
        "m1 = np.array([[1, 3],[4, -2]])\n",
        "m2 = np.array([[-1, 0],[5, 3]])\n",
        "\n",
        "\n",
        "#Transpuesta\n",
        "t = m1.transpose()\n",
        "print(\"La matriz es: \")\n",
        "print(m1)\n",
        "print(\"Y su transpuesta es: \")\n",
        "print(t)"
      ],
      "metadata": {
        "colab": {
          "base_uri": "https://localhost:8080/"
        },
        "id": "vqK8978PRikQ",
        "outputId": "3012d589-a029-4fb2-d120-d238def2d62a"
      },
      "execution_count": null,
      "outputs": [
        {
          "output_type": "stream",
          "name": "stdout",
          "text": [
            "La matriz es: \n",
            "[[ 1  3]\n",
            " [ 4 -2]]\n",
            "Y su transpuesta es: \n",
            "[[ 1  4]\n",
            " [ 3 -2]]\n"
          ]
        }
      ]
    },
    {
      "cell_type": "code",
      "source": [
        "# Autovectores y autovalores\n",
        "from numpy import linalg as LA\n",
        "print(\"La matriz es: \")\n",
        "print(m1)\n",
        "eigenval, eigenvec = LA.eig(m1)\n",
        "print(\"Sus autovalores son: \")\n",
        "print(eigenval)\n",
        "print(\"Sus autovectores son: \")\n",
        "print(eigenvec)"
      ],
      "metadata": {
        "colab": {
          "base_uri": "https://localhost:8080/"
        },
        "id": "wvITwrsDRkLN",
        "outputId": "46bd9e73-647e-4646-ca97-6d26a40b151e"
      },
      "execution_count": null,
      "outputs": [
        {
          "output_type": "stream",
          "name": "stdout",
          "text": [
            "La matriz es: \n",
            "[[ 1  3]\n",
            " [ 4 -2]]\n",
            "Sus autovalores son: \n",
            "[ 3.27491722 -4.27491722]\n",
            "Sus autovectores son: \n",
            "[[ 0.79681209 -0.49436913]\n",
            " [ 0.60422718  0.86925207]]\n"
          ]
        }
      ]
    },
    {
      "cell_type": "code",
      "source": [
        "\n",
        "#Construccion y modificación de matrices\n",
        "\n",
        "z = np.zeros((3,4))\n",
        "print(z)\n",
        "for i in range(3):\n",
        "    for j in range(4):\n",
        "        z[i][j] = i**2-j\n",
        "\n",
        "print(\"z modificado es: \")\n",
        "print(z)\n",
        "print(\"El elemento z[1,3] es: \", z[1,3])\n",
        "print(z[1][3])\n"
      ],
      "metadata": {
        "colab": {
          "base_uri": "https://localhost:8080/"
        },
        "id": "kwVLHioHRJXA",
        "outputId": "924a1344-9e74-461e-ac68-d04f6688d4f9"
      },
      "execution_count": null,
      "outputs": [
        {
          "output_type": "stream",
          "name": "stdout",
          "text": [
            "[[0. 0. 0. 0.]\n",
            " [0. 0. 0. 0.]\n",
            " [0. 0. 0. 0.]]\n",
            "z modificado es: \n",
            "[[ 0. -1. -2. -3.]\n",
            " [ 1.  0. -1. -2.]\n",
            " [ 4.  3.  2.  1.]]\n",
            "El elemento z[1,3] es:  -2.0\n",
            "-2.0\n"
          ]
        }
      ]
    },
    {
      "cell_type": "code",
      "source": [
        "\n",
        "# Tensores\n",
        "\n",
        "w = np.ones((3,4,2))\n",
        "print(\"El tensor W es: \")\n",
        "print(w)"
      ],
      "metadata": {
        "colab": {
          "base_uri": "https://localhost:8080/"
        },
        "id": "cssl5Qn2RRYD",
        "outputId": "3fc3aed2-24e8-4215-ed1c-e7a432bbf1fb"
      },
      "execution_count": null,
      "outputs": [
        {
          "output_type": "stream",
          "name": "stdout",
          "text": [
            "El tensor W es: \n",
            "[[[1. 1.]\n",
            "  [1. 1.]\n",
            "  [1. 1.]\n",
            "  [1. 1.]]\n",
            "\n",
            " [[1. 1.]\n",
            "  [1. 1.]\n",
            "  [1. 1.]\n",
            "  [1. 1.]]\n",
            "\n",
            " [[1. 1.]\n",
            "  [1. 1.]\n",
            "  [1. 1.]\n",
            "  [1. 1.]]]\n"
          ]
        }
      ]
    },
    {
      "cell_type": "code",
      "source": [
        "\n",
        "for i in range(3):\n",
        "    for j in range(4):\n",
        "        for k in range(2):\n",
        "            w[i][j] = i**2 - j + 2*k\n",
        "\n",
        "print(\"w modificado es: \")\n",
        "print(w)\n",
        "print(\"El elemento w[2,0,1] es: \", w[2][0][1])"
      ],
      "metadata": {
        "colab": {
          "base_uri": "https://localhost:8080/"
        },
        "id": "Ip5v2XMqRZKM",
        "outputId": "c59ed676-4b59-4e4c-9b16-cab9fbee780a"
      },
      "execution_count": null,
      "outputs": [
        {
          "output_type": "stream",
          "name": "stdout",
          "text": [
            "w modificado es: \n",
            "[[[ 2.  2.]\n",
            "  [ 1.  1.]\n",
            "  [ 0.  0.]\n",
            "  [-1. -1.]]\n",
            "\n",
            " [[ 3.  3.]\n",
            "  [ 2.  2.]\n",
            "  [ 1.  1.]\n",
            "  [ 0.  0.]]\n",
            "\n",
            " [[ 6.  6.]\n",
            "  [ 5.  5.]\n",
            "  [ 4.  4.]\n",
            "  [ 3.  3.]]]\n",
            "El elemento w[2,0,1] es:  6.0\n"
          ]
        }
      ]
    },
    {
      "cell_type": "code",
      "source": [
        "\n",
        "v = np.array(([1, 2, 3, 4],\n",
        "      [5 ,6, 7, 8],\n",
        "      [9, 10, 11, 12],\n",
        "      [13, 14, 15, 16]))\n",
        "print(\"La matriz v es: \")\n",
        "print(v)\n"
      ],
      "metadata": {
        "colab": {
          "base_uri": "https://localhost:8080/"
        },
        "id": "2LMRNL6uRwae",
        "outputId": "2690f7c4-a17f-4577-9278-305c9e070f32"
      },
      "execution_count": null,
      "outputs": [
        {
          "output_type": "stream",
          "name": "stdout",
          "text": [
            "La matriz v es: \n",
            "[[ 1  2  3  4]\n",
            " [ 5  6  7  8]\n",
            " [ 9 10 11 12]\n",
            " [13 14 15 16]]\n"
          ]
        }
      ]
    },
    {
      "cell_type": "code",
      "source": [
        "print(\"La matriz v sin la primer línea es: \")\n",
        "print(v[1:, :])\n",
        "\n",
        "\n"
      ],
      "metadata": {
        "colab": {
          "base_uri": "https://localhost:8080/"
        },
        "id": "57fY_aEyR1vW",
        "outputId": "5b9aa2a5-2154-497d-9cd1-c132ba91bf73"
      },
      "execution_count": null,
      "outputs": [
        {
          "output_type": "stream",
          "name": "stdout",
          "text": [
            "La matriz v sin la primer línea es: \n",
            "[[ 5  6  7  8]\n",
            " [ 9 10 11 12]\n",
            " [13 14 15 16]]\n"
          ]
        }
      ]
    },
    {
      "cell_type": "code",
      "source": [
        "\n",
        "print(\"La matriz v sin la última línea es: \")\n",
        "print(v[:-1, :])\n"
      ],
      "metadata": {
        "colab": {
          "base_uri": "https://localhost:8080/"
        },
        "id": "4xPFnLK7R5HR",
        "outputId": "c9f0eb01-e42b-4e42-8264-e687118efab9"
      },
      "execution_count": null,
      "outputs": [
        {
          "output_type": "stream",
          "name": "stdout",
          "text": [
            "La matriz v sin la última línea es: \n",
            "[[ 1  2  3  4]\n",
            " [ 5  6  7  8]\n",
            " [ 9 10 11 12]]\n"
          ]
        }
      ]
    },
    {
      "cell_type": "code",
      "source": [
        "\n",
        "print(\"La matriz v desde la columna 1 hasta la columna 2 es: \")\n",
        "print(v[:, 1:3])\n"
      ],
      "metadata": {
        "colab": {
          "base_uri": "https://localhost:8080/"
        },
        "id": "6jzzc60LR8QA",
        "outputId": "33945da5-6c37-471d-c84d-27ab49332d1d"
      },
      "execution_count": null,
      "outputs": [
        {
          "output_type": "stream",
          "name": "stdout",
          "text": [
            "La matriz v desde la columna 1 hasta la columna 2 es: \n",
            "[[ 2  3]\n",
            " [ 6  7]\n",
            " [10 11]\n",
            " [14 15]]\n"
          ]
        }
      ]
    },
    {
      "cell_type": "code",
      "source": [
        "\n",
        "print(\"La matriz reducida de v es: \")\n",
        "print(v[1:3, 1:3])\n"
      ],
      "metadata": {
        "colab": {
          "base_uri": "https://localhost:8080/"
        },
        "id": "QSYyzWABR-Jy",
        "outputId": "de5bc5bd-547f-4cc1-98df-dbd65d64d7ce"
      },
      "execution_count": null,
      "outputs": [
        {
          "output_type": "stream",
          "name": "stdout",
          "text": [
            "La matriz reducida de v es: \n",
            "[[ 6  7]\n",
            " [10 11]]\n"
          ]
        }
      ]
    },
    {
      "cell_type": "code",
      "source": [
        "\n",
        "u = np.ones((5,5))\n",
        "u[1:4,1:4] = 2\n",
        "u[2:3,2:3] = 3\n",
        "un = u.copy()\n",
        "print(\"La matriz un es: \")\n",
        "print(un)\n"
      ],
      "metadata": {
        "colab": {
          "base_uri": "https://localhost:8080/"
        },
        "id": "Zry4faemR-8m",
        "outputId": "a705e4b9-2c48-42c6-b68c-794328cfad19"
      },
      "execution_count": null,
      "outputs": [
        {
          "output_type": "stream",
          "name": "stdout",
          "text": [
            "La matriz un es: \n",
            "[[1. 1. 1. 1. 1.]\n",
            " [1. 2. 2. 2. 1.]\n",
            " [1. 2. 3. 2. 1.]\n",
            " [1. 2. 2. 2. 1.]\n",
            " [1. 1. 1. 1. 1.]]\n"
          ]
        }
      ]
    },
    {
      "cell_type": "code",
      "source": [
        "\n",
        "u[1:,1:] = un[1:,1:] - un[:-1,1:]\n",
        "\n",
        "print(\"La matriz u modificada es: \")\n",
        "print(u)"
      ],
      "metadata": {
        "colab": {
          "base_uri": "https://localhost:8080/"
        },
        "id": "ws2gQ7x5SEw1",
        "outputId": "8afa4b9f-863f-48d3-e5c8-ba04a5c3e791"
      },
      "execution_count": null,
      "outputs": [
        {
          "output_type": "stream",
          "name": "stdout",
          "text": [
            "La matriz u modificada es: \n",
            "[[ 1.  1.  1.  1.  1.]\n",
            " [ 1.  1.  1.  1.  0.]\n",
            " [ 1.  0.  1.  0.  0.]\n",
            " [ 1.  0. -1.  0.  0.]\n",
            " [ 1. -1. -1. -1.  0.]]\n"
          ]
        }
      ]
    },
    {
      "cell_type": "markdown",
      "source": [
        "## Ecuaciones diferenciales\n",
        "Una ecuación diferencial es una ecuación que contiene una o mas funciones juntos con sus derivadas, el objetivo es encontrar la función que satisfaga la ecuación"
      ],
      "metadata": {
        "id": "sn1SKa0USNM3"
      }
    },
    {
      "cell_type": "markdown",
      "source": [
        "Ejemplo:\n",
        "\n",
        "$$\\frac{d^2x}{dt^2}+\\omega^2 x=0$$\n",
        "tiene como solución la función $x(t) = A cos(\\omega t)$, verifíquelo"
      ],
      "metadata": {
        "id": "h_Gp6Lr9Sjiz"
      }
    }
  ]
}